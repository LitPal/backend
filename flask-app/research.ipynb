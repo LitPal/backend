{
 "cells": [
  {
   "cell_type": "code",
   "execution_count": 9,
   "metadata": {},
   "outputs": [
    {
     "name": "stdout",
     "output_type": "stream",
     "text": [
      "zsh:1: command not found: redis-cli\n"
     ]
    }
   ],
   "source": [
    "!redis-cli"
   ]
  },
  {
   "cell_type": "code",
   "execution_count": 10,
   "metadata": {},
   "outputs": [],
   "source": [
    "import redis\n",
    "\n",
    "# connect to our redis database\n",
    "r = redis.Redis(\n",
    "  host='redis-10075.c228.us-central1-1.gce.cloud.redislabs.com',\n",
    "  port=10075,\n",
    "  password='zqSmVqec3tp6G7mlfQC9BkcWvHOnzcmt')\n",
    "\n",
    "# Create user table \n",
    "# redis_db.hset('user:alice', 'password', 'pw123')  \n",
    "# redis_db.hset('user:bob', 'password', 'pw456')"
   ]
  },
  {
   "cell_type": "code",
   "execution_count": 11,
   "metadata": {},
   "outputs": [
    {
     "data": {
      "text/plain": [
       "True"
      ]
     },
     "execution_count": 11,
     "metadata": {},
     "output_type": "execute_result"
    }
   ],
   "source": [
    "r.set('foo', 'bar')"
   ]
  },
  {
   "cell_type": "code",
   "execution_count": 16,
   "metadata": {},
   "outputs": [
    {
     "data": {
      "text/plain": [
       "1"
      ]
     },
     "execution_count": 16,
     "metadata": {},
     "output_type": "execute_result"
    }
   ],
   "source": [
    "# set a specific user\n",
    "r.hset(\"Sid\", \"password\", \"i love men\")\n",
    "\n",
    "r.hset(\"Sid\", \"favorites\", \"{}\") # json containing favorites?"
   ]
  },
  {
   "cell_type": "code",
   "execution_count": 29,
   "metadata": {},
   "outputs": [
    {
     "data": {
      "text/plain": [
       "1"
      ]
     },
     "execution_count": 29,
     "metadata": {},
     "output_type": "execute_result"
    }
   ],
   "source": [
    "r.sadd(\"Sidt\", \"whatever\")\n",
    "r.sadd(\"Sidt\", \"waefewfa\")"
   ]
  },
  {
   "cell_type": "code",
   "execution_count": 36,
   "metadata": {},
   "outputs": [
    {
     "name": "stdout",
     "output_type": "stream",
     "text": [
      "['waefewfa', 'whatever']\n"
     ]
    }
   ],
   "source": [
    "def reformatString(input: str):\n",
    "    return str(input).split('\\'')[1]\n",
    "\n",
    "ls = []\n",
    "for line in r.smembers(\"Sidt\"):\n",
    "    ls.append(reformatString( line))\n",
    "\n",
    "print(ls)"
   ]
  },
  {
   "cell_type": "code",
   "execution_count": 28,
   "metadata": {},
   "outputs": [
    {
     "name": "stdout",
     "output_type": "stream",
     "text": [
      "True\n"
     ]
    }
   ],
   "source": [
    "print(str(r.hget(\"Sid\", \"password\")).split('\\'')[1] == \"i love men\")"
   ]
  },
  {
   "cell_type": "code",
   "execution_count": 7,
   "metadata": {},
   "outputs": [
    {
     "ename": "RedisClusterException",
     "evalue": "Redis Cluster cannot be connected. Please provide at least one reachable node: Error 61 connecting to 127.0.0.1:16379. Connection refused.",
     "output_type": "error",
     "traceback": [
      "\u001b[0;31m---------------------------------------------------------------------------\u001b[0m",
      "\u001b[0;31mConnectionRefusedError\u001b[0m                    Traceback (most recent call last)",
      "File \u001b[0;32m~/Documents/litpal/.venv/lib/python3.11/site-packages/redis/connection.py:264\u001b[0m, in \u001b[0;36mAbstractConnection.connect\u001b[0;34m(self)\u001b[0m\n\u001b[1;32m    263\u001b[0m \u001b[39mtry\u001b[39;00m:\n\u001b[0;32m--> 264\u001b[0m     sock \u001b[39m=\u001b[39m \u001b[39mself\u001b[39;49m\u001b[39m.\u001b[39;49mretry\u001b[39m.\u001b[39;49mcall_with_retry(\n\u001b[1;32m    265\u001b[0m         \u001b[39mlambda\u001b[39;49;00m: \u001b[39mself\u001b[39;49m\u001b[39m.\u001b[39;49m_connect(), \u001b[39mlambda\u001b[39;49;00m error: \u001b[39mself\u001b[39;49m\u001b[39m.\u001b[39;49mdisconnect(error)\n\u001b[1;32m    266\u001b[0m     )\n\u001b[1;32m    267\u001b[0m \u001b[39mexcept\u001b[39;00m socket\u001b[39m.\u001b[39mtimeout:\n",
      "File \u001b[0;32m~/Documents/litpal/.venv/lib/python3.11/site-packages/redis/retry.py:46\u001b[0m, in \u001b[0;36mRetry.call_with_retry\u001b[0;34m(self, do, fail)\u001b[0m\n\u001b[1;32m     45\u001b[0m \u001b[39mtry\u001b[39;00m:\n\u001b[0;32m---> 46\u001b[0m     \u001b[39mreturn\u001b[39;00m do()\n\u001b[1;32m     47\u001b[0m \u001b[39mexcept\u001b[39;00m \u001b[39mself\u001b[39m\u001b[39m.\u001b[39m_supported_errors \u001b[39mas\u001b[39;00m error:\n",
      "File \u001b[0;32m~/Documents/litpal/.venv/lib/python3.11/site-packages/redis/connection.py:265\u001b[0m, in \u001b[0;36mAbstractConnection.connect.<locals>.<lambda>\u001b[0;34m()\u001b[0m\n\u001b[1;32m    263\u001b[0m \u001b[39mtry\u001b[39;00m:\n\u001b[1;32m    264\u001b[0m     sock \u001b[39m=\u001b[39m \u001b[39mself\u001b[39m\u001b[39m.\u001b[39mretry\u001b[39m.\u001b[39mcall_with_retry(\n\u001b[0;32m--> 265\u001b[0m         \u001b[39mlambda\u001b[39;00m: \u001b[39mself\u001b[39;49m\u001b[39m.\u001b[39;49m_connect(), \u001b[39mlambda\u001b[39;00m error: \u001b[39mself\u001b[39m\u001b[39m.\u001b[39mdisconnect(error)\n\u001b[1;32m    266\u001b[0m     )\n\u001b[1;32m    267\u001b[0m \u001b[39mexcept\u001b[39;00m socket\u001b[39m.\u001b[39mtimeout:\n",
      "File \u001b[0;32m~/Documents/litpal/.venv/lib/python3.11/site-packages/redis/connection.py:627\u001b[0m, in \u001b[0;36mConnection._connect\u001b[0;34m(self)\u001b[0m\n\u001b[1;32m    626\u001b[0m \u001b[39mif\u001b[39;00m err \u001b[39mis\u001b[39;00m \u001b[39mnot\u001b[39;00m \u001b[39mNone\u001b[39;00m:\n\u001b[0;32m--> 627\u001b[0m     \u001b[39mraise\u001b[39;00m err\n\u001b[1;32m    628\u001b[0m \u001b[39mraise\u001b[39;00m \u001b[39mOSError\u001b[39;00m(\u001b[39m\"\u001b[39m\u001b[39msocket.getaddrinfo returned an empty list\u001b[39m\u001b[39m\"\u001b[39m)\n",
      "File \u001b[0;32m~/Documents/litpal/.venv/lib/python3.11/site-packages/redis/connection.py:615\u001b[0m, in \u001b[0;36mConnection._connect\u001b[0;34m(self)\u001b[0m\n\u001b[1;32m    614\u001b[0m \u001b[39m# connect\u001b[39;00m\n\u001b[0;32m--> 615\u001b[0m sock\u001b[39m.\u001b[39;49mconnect(socket_address)\n\u001b[1;32m    617\u001b[0m \u001b[39m# set the socket_timeout now that we're connected\u001b[39;00m\n",
      "\u001b[0;31mConnectionRefusedError\u001b[0m: [Errno 61] Connection refused",
      "\nDuring handling of the above exception, another exception occurred:\n",
      "\u001b[0;31mConnectionError\u001b[0m                           Traceback (most recent call last)",
      "File \u001b[0;32m~/Documents/litpal/.venv/lib/python3.11/site-packages/redis/cluster.py:1516\u001b[0m, in \u001b[0;36mNodesManager.initialize\u001b[0;34m(self)\u001b[0m\n\u001b[1;32m   1515\u001b[0m \u001b[39m# Make sure cluster mode is enabled on this node\u001b[39;00m\n\u001b[0;32m-> 1516\u001b[0m \u001b[39mif\u001b[39;00m \u001b[39mbool\u001b[39m(r\u001b[39m.\u001b[39;49minfo()\u001b[39m.\u001b[39mget(\u001b[39m\"\u001b[39m\u001b[39mcluster_enabled\u001b[39m\u001b[39m\"\u001b[39m)) \u001b[39mis\u001b[39;00m \u001b[39mFalse\u001b[39;00m:\n\u001b[1;32m   1517\u001b[0m     \u001b[39mraise\u001b[39;00m RedisClusterException(\n\u001b[1;32m   1518\u001b[0m         \u001b[39m\"\u001b[39m\u001b[39mCluster mode is not enabled on this node\u001b[39m\u001b[39m\"\u001b[39m\n\u001b[1;32m   1519\u001b[0m     )\n",
      "File \u001b[0;32m~/Documents/litpal/.venv/lib/python3.11/site-packages/redis/commands/core.py:1002\u001b[0m, in \u001b[0;36mManagementCommands.info\u001b[0;34m(self, section, *args, **kwargs)\u001b[0m\n\u001b[1;32m   1001\u001b[0m \u001b[39mif\u001b[39;00m section \u001b[39mis\u001b[39;00m \u001b[39mNone\u001b[39;00m:\n\u001b[0;32m-> 1002\u001b[0m     \u001b[39mreturn\u001b[39;00m \u001b[39mself\u001b[39;49m\u001b[39m.\u001b[39;49mexecute_command(\u001b[39m\"\u001b[39;49m\u001b[39mINFO\u001b[39;49m\u001b[39m\"\u001b[39;49m, \u001b[39m*\u001b[39;49m\u001b[39m*\u001b[39;49mkwargs)\n\u001b[1;32m   1003\u001b[0m \u001b[39melse\u001b[39;00m:\n",
      "File \u001b[0;32m~/Documents/litpal/.venv/lib/python3.11/site-packages/redis/client.py:533\u001b[0m, in \u001b[0;36mRedis.execute_command\u001b[0;34m(self, *args, **options)\u001b[0m\n\u001b[1;32m    532\u001b[0m command_name \u001b[39m=\u001b[39m args[\u001b[39m0\u001b[39m]\n\u001b[0;32m--> 533\u001b[0m conn \u001b[39m=\u001b[39m \u001b[39mself\u001b[39m\u001b[39m.\u001b[39mconnection \u001b[39mor\u001b[39;00m pool\u001b[39m.\u001b[39;49mget_connection(command_name, \u001b[39m*\u001b[39;49m\u001b[39m*\u001b[39;49moptions)\n\u001b[1;32m    535\u001b[0m \u001b[39mtry\u001b[39;00m:\n",
      "File \u001b[0;32m~/Documents/litpal/.venv/lib/python3.11/site-packages/redis/connection.py:1086\u001b[0m, in \u001b[0;36mConnectionPool.get_connection\u001b[0;34m(self, command_name, *keys, **options)\u001b[0m\n\u001b[1;32m   1084\u001b[0m \u001b[39mtry\u001b[39;00m:\n\u001b[1;32m   1085\u001b[0m     \u001b[39m# ensure this connection is connected to Redis\u001b[39;00m\n\u001b[0;32m-> 1086\u001b[0m     connection\u001b[39m.\u001b[39;49mconnect()\n\u001b[1;32m   1087\u001b[0m     \u001b[39m# connections that the pool provides should be ready to send\u001b[39;00m\n\u001b[1;32m   1088\u001b[0m     \u001b[39m# a command. if not, the connection was either returned to the\u001b[39;00m\n\u001b[1;32m   1089\u001b[0m     \u001b[39m# pool before all data has been read or the socket has been\u001b[39;00m\n\u001b[1;32m   1090\u001b[0m     \u001b[39m# closed. either way, reconnect and verify everything is good.\u001b[39;00m\n",
      "File \u001b[0;32m~/Documents/litpal/.venv/lib/python3.11/site-packages/redis/connection.py:270\u001b[0m, in \u001b[0;36mAbstractConnection.connect\u001b[0;34m(self)\u001b[0m\n\u001b[1;32m    269\u001b[0m \u001b[39mexcept\u001b[39;00m \u001b[39mOSError\u001b[39;00m \u001b[39mas\u001b[39;00m e:\n\u001b[0;32m--> 270\u001b[0m     \u001b[39mraise\u001b[39;00m \u001b[39mConnectionError\u001b[39;00m(\u001b[39mself\u001b[39m\u001b[39m.\u001b[39m_error_message(e))\n\u001b[1;32m    272\u001b[0m \u001b[39mself\u001b[39m\u001b[39m.\u001b[39m_sock \u001b[39m=\u001b[39m sock\n",
      "\u001b[0;31mConnectionError\u001b[0m: Error 61 connecting to 127.0.0.1:16379. Connection refused.",
      "\nThe above exception was the direct cause of the following exception:\n",
      "\u001b[0;31mRedisClusterException\u001b[0m                     Traceback (most recent call last)",
      "Cell \u001b[0;32mIn[7], line 3\u001b[0m\n\u001b[1;32m      1\u001b[0m \u001b[39mfrom\u001b[39;00m \u001b[39mredis\u001b[39;00m\u001b[39m.\u001b[39;00m\u001b[39mcluster\u001b[39;00m \u001b[39mimport\u001b[39;00m RedisCluster\n\u001b[0;32m----> 3\u001b[0m rc \u001b[39m=\u001b[39m RedisCluster(host\u001b[39m=\u001b[39;49m\u001b[39m'\u001b[39;49m\u001b[39mlocalhost\u001b[39;49m\u001b[39m'\u001b[39;49m, port\u001b[39m=\u001b[39;49m\u001b[39m16379\u001b[39;49m)\n\u001b[1;32m      5\u001b[0m \u001b[39mprint\u001b[39m(rc\u001b[39m.\u001b[39mget_nodes())\n\u001b[1;32m      6\u001b[0m \u001b[39m# [[host=127.0.0.1,port=16379,name=127.0.0.1:16379,server_type=primary,redis_connection=Redis<ConnectionPool<Connection<host=127.0.0.1,port=16379,db=0>>>], ...\u001b[39;00m\n",
      "File \u001b[0;32m~/Documents/litpal/.venv/lib/python3.11/site-packages/redis/cluster.py:632\u001b[0m, in \u001b[0;36mRedisCluster.__init__\u001b[0;34m(self, host, port, startup_nodes, cluster_error_retry_attempts, retry, require_full_coverage, reinitialize_steps, read_from_replicas, dynamic_startup_nodes, url, address_remap, **kwargs)\u001b[0m\n\u001b[1;32m    630\u001b[0m \u001b[39mself\u001b[39m\u001b[39m.\u001b[39mreinitialize_counter \u001b[39m=\u001b[39m \u001b[39m0\u001b[39m\n\u001b[1;32m    631\u001b[0m \u001b[39mself\u001b[39m\u001b[39m.\u001b[39mreinitialize_steps \u001b[39m=\u001b[39m reinitialize_steps\n\u001b[0;32m--> 632\u001b[0m \u001b[39mself\u001b[39m\u001b[39m.\u001b[39mnodes_manager \u001b[39m=\u001b[39m NodesManager(\n\u001b[1;32m    633\u001b[0m     startup_nodes\u001b[39m=\u001b[39;49mstartup_nodes,\n\u001b[1;32m    634\u001b[0m     from_url\u001b[39m=\u001b[39;49mfrom_url,\n\u001b[1;32m    635\u001b[0m     require_full_coverage\u001b[39m=\u001b[39;49mrequire_full_coverage,\n\u001b[1;32m    636\u001b[0m     dynamic_startup_nodes\u001b[39m=\u001b[39;49mdynamic_startup_nodes,\n\u001b[1;32m    637\u001b[0m     address_remap\u001b[39m=\u001b[39;49maddress_remap,\n\u001b[1;32m    638\u001b[0m     \u001b[39m*\u001b[39;49m\u001b[39m*\u001b[39;49mkwargs,\n\u001b[1;32m    639\u001b[0m )\n\u001b[1;32m    641\u001b[0m \u001b[39mself\u001b[39m\u001b[39m.\u001b[39mcluster_response_callbacks \u001b[39m=\u001b[39m CaseInsensitiveDict(\n\u001b[1;32m    642\u001b[0m     \u001b[39mself\u001b[39m\u001b[39m.\u001b[39m\u001b[39m__class__\u001b[39m\u001b[39m.\u001b[39mCLUSTER_COMMANDS_RESPONSE_CALLBACKS\n\u001b[1;32m    643\u001b[0m )\n\u001b[1;32m    644\u001b[0m \u001b[39mself\u001b[39m\u001b[39m.\u001b[39mresult_callbacks \u001b[39m=\u001b[39m CaseInsensitiveDict(\u001b[39mself\u001b[39m\u001b[39m.\u001b[39m\u001b[39m__class__\u001b[39m\u001b[39m.\u001b[39mRESULT_CALLBACKS)\n",
      "File \u001b[0;32m~/Documents/litpal/.venv/lib/python3.11/site-packages/redis/cluster.py:1332\u001b[0m, in \u001b[0;36mNodesManager.__init__\u001b[0;34m(self, startup_nodes, from_url, require_full_coverage, lock, dynamic_startup_nodes, connection_pool_class, address_remap, **kwargs)\u001b[0m\n\u001b[1;32m   1330\u001b[0m     lock \u001b[39m=\u001b[39m threading\u001b[39m.\u001b[39mLock()\n\u001b[1;32m   1331\u001b[0m \u001b[39mself\u001b[39m\u001b[39m.\u001b[39m_lock \u001b[39m=\u001b[39m lock\n\u001b[0;32m-> 1332\u001b[0m \u001b[39mself\u001b[39;49m\u001b[39m.\u001b[39;49minitialize()\n",
      "File \u001b[0;32m~/Documents/litpal/.venv/lib/python3.11/site-packages/redis/cluster.py:1597\u001b[0m, in \u001b[0;36mNodesManager.initialize\u001b[0;34m(self)\u001b[0m\n\u001b[1;32m   1594\u001b[0m         \u001b[39mbreak\u001b[39;00m\n\u001b[1;32m   1596\u001b[0m \u001b[39mif\u001b[39;00m \u001b[39mnot\u001b[39;00m startup_nodes_reachable:\n\u001b[0;32m-> 1597\u001b[0m     \u001b[39mraise\u001b[39;00m RedisClusterException(\n\u001b[1;32m   1598\u001b[0m         \u001b[39mf\u001b[39m\u001b[39m\"\u001b[39m\u001b[39mRedis Cluster cannot be connected. Please provide at least \u001b[39m\u001b[39m\"\u001b[39m\n\u001b[1;32m   1599\u001b[0m         \u001b[39mf\u001b[39m\u001b[39m\"\u001b[39m\u001b[39mone reachable node: \u001b[39m\u001b[39m{\u001b[39;00m\u001b[39mstr\u001b[39m(exception)\u001b[39m}\u001b[39;00m\u001b[39m\"\u001b[39m\n\u001b[1;32m   1600\u001b[0m     ) \u001b[39mfrom\u001b[39;00m \u001b[39mexception\u001b[39;00m\n\u001b[1;32m   1602\u001b[0m \u001b[39m# Create Redis connections to all nodes\u001b[39;00m\n\u001b[1;32m   1603\u001b[0m \u001b[39mself\u001b[39m\u001b[39m.\u001b[39mcreate_redis_connections(\u001b[39mlist\u001b[39m(tmp_nodes_cache\u001b[39m.\u001b[39mvalues()))\n",
      "\u001b[0;31mRedisClusterException\u001b[0m: Redis Cluster cannot be connected. Please provide at least one reachable node: Error 61 connecting to 127.0.0.1:16379. Connection refused."
     ]
    }
   ],
   "source": [
    "from redis.cluster import RedisCluster\n",
    "\n",
    "rc = RedisCluster(host='localhost', port=16379)\n",
    "\n",
    "print(rc.get_nodes())\n",
    "# [[host=127.0.0.1,port=16379,name=127.0.0.1:16379,server_type=primary,redis_connection=Redis<ConnectionPool<Connection<host=127.0.0.1,port=16379,db=0>>>], ...\n",
    "\n",
    "rc.set('foo', 'bar')\n",
    "# True\n",
    "\n",
    "rc.get('foo')\n",
    "# b'bar'"
   ]
  },
  {
   "cell_type": "code",
   "execution_count": null,
   "metadata": {},
   "outputs": [],
   "source": []
  }
 ],
 "metadata": {
  "kernelspec": {
   "display_name": ".venv",
   "language": "python",
   "name": "python3"
  },
  "language_info": {
   "codemirror_mode": {
    "name": "ipython",
    "version": 3
   },
   "file_extension": ".py",
   "mimetype": "text/x-python",
   "name": "python",
   "nbconvert_exporter": "python",
   "pygments_lexer": "ipython3",
   "version": "3.11.2"
  },
  "orig_nbformat": 4
 },
 "nbformat": 4,
 "nbformat_minor": 2
}
